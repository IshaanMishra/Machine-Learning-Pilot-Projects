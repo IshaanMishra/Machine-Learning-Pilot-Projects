{
 "cells": [
  {
   "cell_type": "markdown",
   "metadata": {},
   "source": [
    "# Chemical Research Scientist"
   ]
  },
  {
   "cell_type": "markdown",
   "metadata": {},
   "source": [
    "The given file 'data.xlsx' contains the details of a particular chemical's **critical point**, **pressure** and **isotope** corresponding to its **temperature** in degrees as per the existing research work of scientists.\n",
    "*(Isotope column is required for BONUS question only!)*\n",
    "\n",
    "**Important research details:**\n",
    "1. The chemical check is impossible at temperature above 100 degrees.\n",
    "2. The critical point is always positive.\n",
    "3. The critical point of the chemical should not cross 15.\n",
    "4. One scientist accidentally experimented at 100 degrees and the critical point was reported as 9.2. So, it gives a basis to the research that the predicted critical point will be around 8 to 12.\n",
    "\n",
    "With the given information, use the **most suitable machine learning algorithm** and **predict the most appropriate value of critical point for 80, 90 and 100 degrees each.**.\n",
    "**Also predict the pressure for above temperatures.**\n",
    "\n",
    "**Process to be followed:**\n",
    "1. Initially plot the graphs for data visualisation.\n",
    "2. Split your data into training and testing data set. It should be a 80:20 split with any random state of your choice.\n",
    "3. Use appropriate machine learning model to predict the values of critical point and pressure. (Keep in consideration, the \"Imporatant research details\" mentioned above.)\n",
    "4. Find Mean Square Error (MSE) for both the cases.\n",
    "4. Predict the most appropriate value of both, critical point and pressure at 80, 90 and 100 degrees each.\n",
    "5. Also write a brief statement why you think both of your predictions are correct.\n",
    "\n",
    "**Important instructions**\n",
    "\n",
    "Plot graphs wherever required.\n",
    "Graphs should contain proper labels, axis, legend, grid, colour map, etc. whichever is applicable for better interpretation.\n",
    "\n",
    "**BONUS QUESTION**\n",
    "\n",
    "The chemical has 3 isotopes named, A,B and C (as mentioned in file). **The type of isotope is dependent on critical point and pressure only.** Perform classification of the following chemical based on isotopes and perform following:\n",
    "1. Find the minimum value of max_depth required to get a perfect classification.\n",
    "2. Print confusion matrix and number of total error points in testing.\n",
    "3. Plot the heat map of confusion matrix and the contour plot of classification."
   ]
  },
  {
   "cell_type": "code",
   "execution_count": 1,
   "metadata": {},
   "outputs": [
    {
     "data": {
      "text/html": [
       "<div>\n",
       "<style scoped>\n",
       "    .dataframe tbody tr th:only-of-type {\n",
       "        vertical-align: middle;\n",
       "    }\n",
       "\n",
       "    .dataframe tbody tr th {\n",
       "        vertical-align: top;\n",
       "    }\n",
       "\n",
       "    .dataframe thead th {\n",
       "        text-align: right;\n",
       "    }\n",
       "</style>\n",
       "<table border=\"1\" class=\"dataframe\">\n",
       "  <thead>\n",
       "    <tr style=\"text-align: right;\">\n",
       "      <th></th>\n",
       "      <th>temp</th>\n",
       "      <th>critical_point</th>\n",
       "      <th>pressure</th>\n",
       "      <th>isotope</th>\n",
       "    </tr>\n",
       "  </thead>\n",
       "  <tbody>\n",
       "    <tr>\n",
       "      <th>0</th>\n",
       "      <td>0</td>\n",
       "      <td>2.00</td>\n",
       "      <td>8.50</td>\n",
       "      <td>A</td>\n",
       "    </tr>\n",
       "    <tr>\n",
       "      <th>1</th>\n",
       "      <td>1</td>\n",
       "      <td>2.05</td>\n",
       "      <td>8.46</td>\n",
       "      <td>A</td>\n",
       "    </tr>\n",
       "    <tr>\n",
       "      <th>2</th>\n",
       "      <td>2</td>\n",
       "      <td>2.01</td>\n",
       "      <td>8.42</td>\n",
       "      <td>A</td>\n",
       "    </tr>\n",
       "    <tr>\n",
       "      <th>3</th>\n",
       "      <td>3</td>\n",
       "      <td>2.03</td>\n",
       "      <td>8.35</td>\n",
       "      <td>A</td>\n",
       "    </tr>\n",
       "    <tr>\n",
       "      <th>4</th>\n",
       "      <td>4</td>\n",
       "      <td>2.05</td>\n",
       "      <td>8.30</td>\n",
       "      <td>A</td>\n",
       "    </tr>\n",
       "  </tbody>\n",
       "</table>\n",
       "</div>"
      ],
      "text/plain": [
       "   temp  critical_point  pressure isotope\n",
       "0     0            2.00      8.50       A\n",
       "1     1            2.05      8.46       A\n",
       "2     2            2.01      8.42       A\n",
       "3     3            2.03      8.35       A\n",
       "4     4            2.05      8.30       A"
      ]
     },
     "execution_count": 1,
     "metadata": {},
     "output_type": "execute_result"
    }
   ],
   "source": [
    "import pandas as pd\n",
    "\n",
    "df = pd.read_excel('data.xlsx')\n",
    "df.head()"
   ]
  },
  {
   "cell_type": "code",
   "execution_count": 2,
   "metadata": {},
   "outputs": [
    {
     "data": {
      "text/plain": [
       "Text(0,0.5,'Temperature')"
      ]
     },
     "execution_count": 2,
     "metadata": {},
     "output_type": "execute_result"
    }
   ],
   "source": [
    "import matplotlib.pyplot as plt\n",
    "plt.scatter(df['critical_point'],df['temp'])\n",
    "\n",
    "plt.title('Critical Point Vs Temperature')\n",
    "plt.xlabel('Critical Point')\n",
    "plt.ylabel('Temperature')"
   ]
  },
  {
   "cell_type": "code",
   "execution_count": 3,
   "metadata": {},
   "outputs": [
    {
     "data": {
      "text/plain": [
       "Text(0,0.5,'Temperature')"
      ]
     },
     "execution_count": 3,
     "metadata": {},
     "output_type": "execute_result"
    },
    {
     "data": {
      "image/png": "[encoded data removed]",
      "text/plain": [
       "<Figure size 432x288 with 1 Axes>"
      ]
     },
     "metadata": {},
     "output_type": "display_data"
    }
   ],
   "source": [
    "import matplotlib.pyplot as plt\n",
    "\n",
    "plt.scatter(df['pressure'],df['temp'])\n",
    "\n",
    "plt.title('Pressure Vs Temperature')\n",
    "plt.xlabel('Pressure')\n",
    "plt.ylabel('Temperature')"
   ]
  },
  {
   "cell_type": "code",
   "execution_count": 4,
   "metadata": {},
   "outputs": [],
   "source": [
    "from sklearn.model_selection import train_test_split\n",
    "\n",
    "x_train, x_test, y_train, y_test =train_test_split(df['temp'],df[['critical_point']],test_size=0.2,random_state=980)"
   ]
  },
  {
   "cell_type": "code",
   "execution_count": 5,
   "metadata": {},
   "outputs": [],
   "source": [
    "import numpy as np\n",
    "from sklearn.preprocessing import PolynomialFeatures\n",
    "from sklearn.linear_model import LinearRegression\n",
    "from sklearn.model_selection import train_test_split\n",
    "\n",
    "PFeatures = PolynomialFeatures(degree = 4)\n",
    "\n",
    "Quad_train = PFeatures.fit_transform(x_train.values.reshape(-1,1))\n",
    "Quad_test=PFeatures.fit_transform(x_test.values.reshape(-1,1))"
   ]
  },
  {
   "cell_type": "code",
   "execution_count": 6,
   "metadata": {},
   "outputs": [],
   "source": [
    "Pmodel = LinearRegression()\n",
    "Pmodel.fit(Quad_train, y_train)\n",
    "obtained_Y_test=Pmodel.predict(Quad_test)\n"
   ]
  },
  {
   "cell_type": "code",
   "execution_count": 7,
   "metadata": {},
   "outputs": [
    {
     "name": "stdout",
     "output_type": "stream",
     "text": [
      "MSE: 0.019088415594961442\n"
     ]
    }
   ],
   "source": [
    "from sklearn.metrics import mean_squared_error\n",
    "mse=mean_squared_error(y_test,obtained_Y_test)\n",
    "print(\"MSE: {}\".format(mse))"
   ]
  },
  {
   "cell_type": "code",
   "execution_count": 8,
   "metadata": {},
   "outputs": [],
   "source": [
    "from sklearn.model_selection import train_test_split\n",
    "X_train,X_test,Y_train,Y_test=train_test_split(df['temp'],df['pressure'],test_size=0.2,random_state=25)"
   ]
  },
  {
   "cell_type": "code",
   "execution_count": 9,
   "metadata": {},
   "outputs": [
    {
     "data": {
      "text/plain": [
       "LinearRegression(copy_X=True, fit_intercept=True, n_jobs=1, normalize=False)"
      ]
     },
     "execution_count": 9,
     "metadata": {},
     "output_type": "execute_result"
    }
   ],
   "source": [
    "model=LinearRegression()\n",
    "model.fit(X_train.values.reshape(-1,1),Y_train)\n",
    "model"
   ]
  },
  {
   "cell_type": "code",
   "execution_count": 10,
   "metadata": {},
   "outputs": [
    {
     "name": "stdout",
     "output_type": "stream",
     "text": [
      "MSE: 0.0012129925885273514\n"
     ]
    }
   ],
   "source": [
    "obtained_Y_test=model.predict(X_test.values.reshape(-1,1))\n",
    "\n",
    "mse=mean_squared_error(y_true=Y_test,y_pred=obtained_Y_test)\n",
    "print(\"MSE: {}\".format(mse))"
   ]
  },
  {
   "cell_type": "code",
   "execution_count": 11,
   "metadata": {},
   "outputs": [
    {
     "data": {
      "text/plain": [
       "array([[ 3.90412391],\n",
       "       [ 6.10056821],\n",
       "       [11.03162678]])"
      ]
     },
     "execution_count": 11,
     "metadata": {},
     "output_type": "execute_result"
    }
   ],
   "source": [
    "Pmodel.predict(PFeatures.fit_transform(pd.DataFrame([80,90,100]).values.reshape(-1,1)))"
   ]
  },
  {
   "cell_type": "code",
   "execution_count": 24,
   "metadata": {},
   "outputs": [
    {
     "data": {
      "text/plain": [
       "array([5.33701771, 4.95074324, 4.56446877])"
      ]
     },
     "execution_count": 24,
     "metadata": {},
     "output_type": "execute_result"
    }
   ],
   "source": [
    "model.predict((pd.DataFrame([80,90,100]).values.reshape(-1,1)))"
   ]
  },
  {
   "cell_type": "code",
   "execution_count": 12,
   "metadata": {},
   "outputs": [
    {
     "data": {
      "text/html": [
       "<div>\n",
       "<style scoped>\n",
       "    .dataframe tbody tr th:only-of-type {\n",
       "        vertical-align: middle;\n",
       "    }\n",
       "\n",
       "    .dataframe tbody tr th {\n",
       "        vertical-align: top;\n",
       "    }\n",
       "\n",
       "    .dataframe thead th {\n",
       "        text-align: right;\n",
       "    }\n",
       "</style>\n",
       "<table border=\"1\" class=\"dataframe\">\n",
       "  <thead>\n",
       "    <tr style=\"text-align: right;\">\n",
       "      <th></th>\n",
       "      <th>temp</th>\n",
       "      <th>critical_point</th>\n",
       "      <th>pressure</th>\n",
       "      <th>isotope</th>\n",
       "    </tr>\n",
       "  </thead>\n",
       "  <tbody>\n",
       "    <tr>\n",
       "      <th>0</th>\n",
       "      <td>0</td>\n",
       "      <td>2.00</td>\n",
       "      <td>8.50</td>\n",
       "      <td>0</td>\n",
       "    </tr>\n",
       "    <tr>\n",
       "      <th>1</th>\n",
       "      <td>1</td>\n",
       "      <td>2.05</td>\n",
       "      <td>8.46</td>\n",
       "      <td>0</td>\n",
       "    </tr>\n",
       "    <tr>\n",
       "      <th>2</th>\n",
       "      <td>2</td>\n",
       "      <td>2.01</td>\n",
       "      <td>8.42</td>\n",
       "      <td>0</td>\n",
       "    </tr>\n",
       "    <tr>\n",
       "      <th>3</th>\n",
       "      <td>3</td>\n",
       "      <td>2.03</td>\n",
       "      <td>8.35</td>\n",
       "      <td>0</td>\n",
       "    </tr>\n",
       "    <tr>\n",
       "      <th>4</th>\n",
       "      <td>4</td>\n",
       "      <td>2.05</td>\n",
       "      <td>8.30</td>\n",
       "      <td>0</td>\n",
       "    </tr>\n",
       "  </tbody>\n",
       "</table>\n",
       "</div>"
      ],
      "text/plain": [
       "   temp  critical_point  pressure  isotope\n",
       "0     0            2.00      8.50        0\n",
       "1     1            2.05      8.46        0\n",
       "2     2            2.01      8.42        0\n",
       "3     3            2.03      8.35        0\n",
       "4     4            2.05      8.30        0"
      ]
     },
     "execution_count": 12,
     "metadata": {},
     "output_type": "execute_result"
    }
   ],
   "source": [
    "iso={'A':0,'B':1,'C':2}\n",
    "df['isotope']=df['isotope'].apply(lambda x: iso[x])\n",
    "df.head()"
   ]
  },
  {
   "cell_type": "code",
   "execution_count": 13,
   "metadata": {},
   "outputs": [],
   "source": [
    "from sklearn.tree import DecisionTreeClassifier\n",
    "from sklearn.model_selection import train_test_split\n",
    "from sklearn.metrics import classification_report, confusion_matrix\n",
    "decisiontree=DecisionTreeClassifier(criterion='entropy',max_depth=4)\n",
    "obtained_tree=decisiontree.fit(df[['critical_point','pressure']],df['isotope'])"
   ]
  },
  {
   "cell_type": "code",
   "execution_count": 14,
   "metadata": {},
   "outputs": [
    {
     "data": {
      "text/plain": [
       "<matplotlib.axes._subplots.AxesSubplot at 0xcaafb10>"
      ]
     },
     "execution_count": 14,
     "metadata": {},
     "output_type": "execute_result"
    },
    {
     "data": {
      "image/png": "[encoded data removed]",
      "text/plain": [
       "<Figure size 432x288 with 2 Axes>"
      ]
     },
     "metadata": {},
     "output_type": "display_data"
    }
   ],
   "source": [
    "import seaborn as sb\n",
    "Predicted_Species=obtained_tree.predict(df[['critical_point','pressure']])\n",
    "sb.heatmap(confusion_matrix(df['isotope'],Predicted_Species),annot=True,cmap='Pastel1')"
   ]
  },
  {
   "cell_type": "code",
   "execution_count": 15,
   "metadata": {},
   "outputs": [
    {
     "data": {
      "image/png": "[encoded data removed]",
      "text/plain": [
       "<IPython.core.display.Image object>"
      ]
     },
     "execution_count": 15,
     "metadata": {},
     "output_type": "execute_result"
    }
   ],
   "source": [
    "import os\n",
    "os.environ[\"PATH\"] += os.pathsep + 'C:\\\\Program Files\\\\Graphviz2.38\\\\bin'\n",
    "from sklearn.tree import export_graphviz\n",
    "import pydotplus\n",
    "from IPython.display import Image\n",
    "\n",
    "from io import StringIO\n",
    "DecisionTreeImg=StringIO()\n",
    "\n",
    "export_graphviz(obtained_tree,out_file=DecisionTreeImg,filled=True,rounded=True,feature_names=\n",
    "                ['critical_point','pressure'],special_characters=True)\n",
    "\n",
    "graph=pydotplus.graph_from_dot_data(DecisionTreeImg.getvalue())\n",
    "Image(graph.create_png())"
   ]
  },
  {
   "cell_type": "code",
   "execution_count": 16,
   "metadata": {},
   "outputs": [
    {
     "data": {
      "text/plain": [
       "array([[20,  0,  0],\n",
       "       [ 0, 27,  0],\n",
       "       [ 0,  0, 25]], dtype=int64)"
      ]
     },
     "execution_count": 16,
     "metadata": {},
     "output_type": "execute_result"
    }
   ],
   "source": [
    "confusion_matrix(df['isotope'],Predicted_Species)"
   ]
  },
  {
   "cell_type": "code",
   "execution_count": 17,
   "metadata": {},
   "outputs": [
    {
     "name": "stdout",
     "output_type": "stream",
     "text": [
      "             precision    recall  f1-score   support\n",
      "\n",
      "          0       1.00      1.00      1.00        20\n",
      "          1       1.00      1.00      1.00        27\n",
      "          2       1.00      1.00      1.00        25\n",
      "\n",
      "avg / total       1.00      1.00      1.00        72\n",
      "\n"
     ]
    }
   ],
   "source": [
    "print(classification_report(df['isotope'],Predicted_Species))"
   ]
  },
  {
   "cell_type": "code",
   "execution_count": 50,
   "metadata": {},
   "outputs": [],
   "source": [
    "from sklearn import metrics\n",
    "from sklearn.model_selection import train_test_split\n",
    "\n",
    "\n",
    "a = df[df['isotope']==0][['critical_point','pressure','isotope']]\n",
    "b = df[df['isotope']==1][['critical_point','pressure','isotope']]\n",
    "c = df[df['isotope']==2][['critical_point','pressure','isotope']]\n",
    "\n",
    "x_train, x_test, y_train, y_test = train_test_split\\\n",
    "(df[['critical_point','pressure']],df['isotope'],test_size=0.2,random_state=0)\n",
    "\n",
    "from sklearn.svm import SVC\n",
    "SVCClassifier=SVC(kernel='linear',C=500,max_iter=100000)\n"
   ]
  },
  {
   "cell_type": "code",
   "execution_count": 51,
   "metadata": {},
   "outputs": [
    {
     "data": {
      "image/png": "[encoded data removed]",
      "text/plain": [
       "<Figure size 432x288 with 1 Axes>"
      ]
     },
     "metadata": {},
     "output_type": "display_data"
    }
   ],
   "source": [
    "import numpy as np\n",
    "x_min,x_max=1.5,4\n",
    "y_min,y_max=5.5,9\n",
    "xx,yy=np.meshgrid(np.arange(x_min,x_max,.001),np.arange(y_min,y_max,.001))\n",
    "xx_lin=xx.ravel()\n",
    "yy_lin=yy.ravel()\n",
    "pred_input=np.c_[xx_lin,yy_lin]\n",
    "\n",
    "\n",
    "SVC_Z=SVCModel.predict(pred_input)\n",
    "SVC_Z=SVC_Z.reshape(xx.shape)\n",
    "\n",
    "plt.contourf(xx,yy,SVC_Z,cmap=plt.cm.coolwarm, alpha = 0.6)\n",
    "plt.scatter(a['critical_point'],a['pressure'],label='Isotope A')\n",
    "plt.scatter(b['critical_point'],b['pressure'],color='y',label='Isotope B')\n",
    "plt.scatter(c['critical_point'],c['pressure'],color='r',label='Isotope C')\n",
    "plt.xlabel('Critical Point')\n",
    "plt.ylabel('Pressure')\n",
    "plt.legend()\n",
    "plt.axis([1.5,4,5.5,9])\n",
    "plt.grid()\n",
    "plt.show()\n"
   ]
  },
  {
   "cell_type": "code",
   "execution_count": null,
   "metadata": {},
   "outputs": [],
   "source": []
  }
 ],
 "metadata": {
  "kernelspec": {
   "display_name": "Python 3",
   "language": "python",
   "name": "python3"
  },
  "language_info": {
   "codemirror_mode": {
    "name": "ipython",
    "version": 3
   },
   "file_extension": ".py",
   "mimetype": "text/x-python",
   "name": "python",
   "nbconvert_exporter": "python",
   "pygments_lexer": "ipython3",
   "version": "3.6.2"
  }
 },
 "nbformat": 4,
 "nbformat_minor": 2
}
